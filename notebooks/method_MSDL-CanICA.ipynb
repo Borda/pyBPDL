{
 "cells": [
  {
   "cell_type": "markdown",
   "metadata": {},
   "source": [
    "# Multi-subject dictionary learning & CanICA"
   ]
  },
  {
   "cell_type": "markdown",
   "metadata": {},
   "source": [
    "**Reference:**\n",
    "\n",
    "  * [Dictionary Learning and ICA for doing group analysis of resting-state fMRI](http://nilearn.github.io/auto_examples/03_connectivity/plot_compare_resting_state_decomposition.html)\n",
    "  * [nilearn.decomposition.DictLearning](http://nilearn.github.io/modules/generated/nilearn.decomposition.DictLearning.html)\n",
    "  * [nilearn.decomposition.CanICA](http://nilearn.github.io/modules/generated/nilearn.decomposition.CanICA.html)\n",
    "  * [CanICA](https://github.com/GaelVaroquaux/canica)\n",
    "\n",
    "This example applies dictionary learning and ICA to resting-state data, visualizing resulting components using atlas plotting tools.\n",
    "\n",
    "Dictionary learning is a sparsity based decomposition method for extracting spatial maps. It extracts maps that are naturally sparse and usually cleaner than ICA.\n",
    "CanICA is an ICA method for group-level analysis of fMRI data. Compared to other strategies, it brings a well-controlled group model, as well as a thresholding algorithm controlling for specificity and sensitivity with an explicit model of the signal. \n",
    "\n",
    "  * G. Varoquaux et al. “A group model for stable multi-subject ICA on fMRI datasets”, NeuroImage Vol 51 (2010), p. 288-299\n",
    "  * G. Varoquaux et al. “ICA-based sparse features recovery from fMRI datasets”, IEEE ISBI 2010, p. 1177\n",
    "  * Gael Varoquaux et al. Multi-subject dictionary learning to segment an atlas of brain spontaneous activity Information Processing in Medical Imaging, 2011, pp. 562-573, Lecture Notes in Computer Science"
   ]
  },
  {
   "cell_type": "code",
   "execution_count": 1,
   "metadata": {},
   "outputs": [
    {
     "name": "stderr",
     "output_type": "stream",
     "text": [
      "/mnt/datagrid/personal/borovec/Applications/vEnv2/lib/python2.7/site-packages/h5py/__init__.py:36: FutureWarning: Conversion of the second argument of issubdtype from `float` to `np.floating` is deprecated. In future, it will be treated as `np.float64 == np.dtype(float).type`.\n",
      "  from ._conv import register_converters as _register_converters\n",
      "/mnt/datagrid/personal/borovec/Applications/vEnv2/lib/python2.7/site-packages/IPython/html.py:14: ShimWarning: The `IPython.html` package has been deprecated. You should import from `notebook` instead. `IPython.html.widgets` has moved to `ipywidgets`.\n",
      "  \"`IPython.html.widgets` has moved to `ipywidgets`.\", ShimWarning)\n"
     ]
    }
   ],
   "source": [
    "%matplotlib inline\n",
    "%load_ext autoreload\n",
    "%autoreload 2\n",
    "import os, sys\n",
    "import numpy as np\n",
    "import nibabel as nib\n",
    "from skimage import io\n",
    "import matplotlib.pylab as plt\n",
    "import notebooks.notebook_utils as uts"
   ]
  },
  {
   "cell_type": "markdown",
   "metadata": {},
   "source": [
    "## load datset"
   ]
  },
  {
   "cell_type": "code",
   "execution_count": 2,
   "metadata": {},
   "outputs": [
    {
     "name": "stdout",
     "output_type": "stream",
     "text": [
      "loading dataset: (True) exists -> /datagrid/Medical/microscopy/drosophila/synthetic_data/atomicPatternDictionary_v0/datasetFuzzy_raw\n",
      "loading (True) <- /datagrid/Medical/microscopy/drosophila/synthetic_data/atomicPatternDictionary_v0/dictionary/atlas.png\n"
     ]
    },
    {
     "data": {
      "image/png": "[encoded data removed]",
      "text/plain": [
       "<matplotlib.figure.Figure at 0x7f8634425e90>"
      ]
     },
     "metadata": {},
     "output_type": "display_data"
    }
   ],
   "source": [
    "# uts.DEFAULT_PATH = '/datagrid/Medical/microscopy/drosophila/synthetic_data/atomicPatternDictionary_v0'\n",
    "p_dataset = os.path.join(uts.DEFAULT_PATH, uts.SYNTH_DATASETS_FUZZY[0])\n",
    "print ('loading dataset: ({}) exists -> {}'.format(os.path.exists(p_dataset), p_dataset))\n",
    "\n",
    "p_atlas = os.path.join(uts.DEFAULT_PATH, 'dictionary/atlas.png')\n",
    "atlas_gt = io.imread(p_atlas)\n",
    "nb_patterns = len(np.unique(atlas_gt))\n",
    "print ('loading ({}) <- {}'.format(os.path.exists(p_atlas), p_atlas))\n",
    "plt.imshow(atlas_gt, interpolation='nearest')\n",
    "_ = plt.title('Atlas; unique %i' % nb_patterns)"
   ]
  },
  {
   "cell_type": "code",
   "execution_count": 3,
   "metadata": {},
   "outputs": [
    {
     "name": "stdout",
     "output_type": "stream",
     "text": [
      "('loaded # images: ', 800)\n",
      "('image shape:', (64, 64))\n"
     ]
    }
   ],
   "source": [
    "list_imgs = uts.load_dataset(p_dataset)\n",
    "print ('loaded # images: ', len(list_imgs))\n",
    "img_shape = list_imgs[0].shape\n",
    "print ('image shape:', img_shape)\n",
    "\n",
    "nii_images = [nib.Nifti1Image(np.expand_dims(img, axis=0), affine=np.eye(4)) for img in list_imgs]\n",
    "mask_full = nib.Nifti1Image(np.expand_dims(np.ones(atlas_gt.shape, dtype=np.int8), axis=0), affine=np.eye(4))"
   ]
  },
  {
   "cell_type": "code",
   "execution_count": 17,
   "metadata": {},
   "outputs": [
    {
     "name": "stdout",
     "output_type": "stream",
     "text": [
      "('shape:', (1, 64, 64))\n",
      "('values:', array([1], dtype=int8))\n"
     ]
    },
    {
     "data": {
      "image/png": "[encoded data removed]",
      "text/plain": [
       "<matplotlib.figure.Figure at 0x7f862dc956d0>"
      ]
     },
     "metadata": {},
     "output_type": "display_data"
    }
   ],
   "source": [
    "from nilearn.input_data import NiftiMasker\n",
    "masker = NiftiMasker(low_pass=0.5, verbose=0)\n",
    "masker.fit(nii_images)\n",
    "print ('shape:', masker.mask_img_.get_data().shape)\n",
    "print ('values:', np.unique(masker.mask_img_.get_data()))\n",
    "_= plt.imshow(masker.mask_img_.get_data()[0])"
   ]
  },
  {
   "cell_type": "markdown",
   "metadata": {},
   "source": [
    "## CanICA"
   ]
  },
  {
   "cell_type": "markdown",
   "metadata": {},
   "source": [
    "CanICA is an ICA method for group-level analysis of fMRI data. Compared to other strategies, it brings a well-controlled group model, as well as a thresholding algorithm controlling for specificity and sensitivity with an explicit model of the signal. \n",
    "\n",
    "[nilearn.decomposition.CanICA](http://nilearn.github.io/modules/generated/nilearn.decomposition.CanICA.html)"
   ]
  },
  {
   "cell_type": "code",
   "execution_count": 10,
   "metadata": {},
   "outputs": [
    {
     "name": "stderr",
     "output_type": "stream",
     "text": [
      "/mnt/datagrid/personal/borovec/Applications/vEnv2/lib/python2.7/site-packages/nilearn/signal.py:139: UserWarning: Detrending of 3D signal has been requested but would lead to zero values. Skipping.\n",
      "  warnings.warn('Detrending of 3D signal has been requested but '\n",
      "/mnt/datagrid/personal/borovec/Applications/vEnv2/lib/python2.7/site-packages/nilearn/signal.py:51: UserWarning: Standardization of 3D signal has been requested but would lead to zero values. Skipping.\n",
      "  warnings.warn('Standardization of 3D signal has been requested but '\n"
     ]
    },
    {
     "data": {
      "text/plain": [
       "CanICA(detrend=True, do_cca=True, high_pass=None, low_pass=None,\n",
       "    mask=<nibabel.nifti1.Nifti1Image object at 0x7f8634425510>,\n",
       "    mask_args=None, mask_strategy='background',\n",
       "    memory=Memory(cachedir=None), memory_level=0, n_components=7, n_init=5,\n",
       "    n_jobs=1, random_state=None, smoothing_fwhm=6, standardize=True,\n",
       "    t_r=None, target_affine=None, target_shape=None, threshold='auto',\n",
       "    verbose=0)"
      ]
     },
     "execution_count": 10,
     "metadata": {},
     "output_type": "execute_result"
    }
   ],
   "source": [
    "from nilearn.decomposition import CanICA\n",
    "canica = CanICA(mask=mask_full, n_components=nb_patterns, \n",
    "                mask_strategy='background',\n",
    "                threshold='auto', n_init=5, verbose=0)\n",
    "canica.fit(nii_images)"
   ]
  },
  {
   "cell_type": "code",
   "execution_count": 11,
   "metadata": {},
   "outputs": [
    {
     "data": {
      "text/plain": [
       "<matplotlib.image.AxesImage at 0x7f862c411ed0>"
      ]
     },
     "execution_count": 11,
     "metadata": {},
     "output_type": "execute_result"
    },
    {
     "data": {
      "image/png": "[encoded data removed]",
      "text/plain": [
       "<matplotlib.figure.Figure at 0x7f862c664c50>"
      ]
     },
     "metadata": {},
     "output_type": "display_data"
    }
   ],
   "source": [
    "components = np.argmax(canica.components_, axis=0) + 1\n",
    "atlas = components.reshape(atlas_gt.shape)\n",
    "plt.imshow(atlas)"
   ]
  },
  {
   "cell_type": "code",
   "execution_count": 12,
   "metadata": {},
   "outputs": [
    {
     "data": {
      "text/plain": [
       "<matplotlib.image.AxesImage at 0x7f862c31c190>"
      ]
     },
     "execution_count": 12,
     "metadata": {},
     "output_type": "execute_result"
    },
    {
     "data": {
      "image/png": "[encoded data removed]",
      "text/plain": [
       "<matplotlib.figure.Figure at 0x7f862c3db050>"
      ]
     },
     "metadata": {},
     "output_type": "display_data"
    }
   ],
   "source": [
    "max_ptn = np.max(canica.components_, axis=0).reshape(atlas_gt.shape)\n",
    "atlas[max_ptn < np.mean(max_ptn[max_ptn > 0])] = 0\n",
    "plt.imshow(atlas)"
   ]
  },
  {
   "cell_type": "markdown",
   "metadata": {},
   "source": [
    "## Dictionary Learning"
   ]
  },
  {
   "cell_type": "markdown",
   "metadata": {},
   "source": [
    "Perform a map learning algorithm based on spatial component sparsity, over a CanICA initialization. This yields more stable maps than CanICA.\n",
    "\n",
    "[nilearn.decomposition.DictLearning](http://nilearn.github.io/modules/generated/nilearn.decomposition.DictLearning.html) "
   ]
  },
  {
   "cell_type": "code",
   "execution_count": 15,
   "metadata": {},
   "outputs": [
    {
     "data": {
      "text/plain": [
       "DictLearning(alpha=10, batch_size=20, detrend=True, dict_init=None,\n",
       "       high_pass=None, low_pass=None,\n",
       "       mask=<nibabel.nifti1.Nifti1Image object at 0x7f8634425510>,\n",
       "       mask_args=None, mask_strategy='background',\n",
       "       memory=Memory(cachedir=None), memory_level=0, method='cd',\n",
       "       n_components=7, n_epochs=10, n_jobs=1, random_state=None,\n",
       "       reduction_ratio='auto', smoothing_fwhm=4, standardize=True,\n",
       "       t_r=None, target_affine=None, target_shape=None, verbose=0)"
      ]
     },
     "execution_count": 15,
     "metadata": {},
     "output_type": "execute_result"
    }
   ],
   "source": [
    "from nilearn.decomposition import DictLearning\n",
    "dict_learn = DictLearning(mask=mask_full, n_components=nb_patterns,\n",
    "                          mask_strategy='background',\n",
    "                          verbose=0, n_epochs=10)\n",
    "dict_learn.fit(nii_images)"
   ]
  },
  {
   "cell_type": "code",
   "execution_count": 16,
   "metadata": {},
   "outputs": [
    {
     "data": {
      "text/plain": [
       "<matplotlib.image.AxesImage at 0x7f862c25f3d0>"
      ]
     },
     "execution_count": 16,
     "metadata": {},
     "output_type": "execute_result"
    },
    {
     "data": {
      "image/png": "[encoded data removed]",
      "text/plain": [
       "<matplotlib.figure.Figure at 0x7f862de2ee10>"
      ]
     },
     "metadata": {},
     "output_type": "display_data"
    }
   ],
   "source": [
    "components = np.argmax(dict_learn.components_, axis=0) + 1\n",
    "atlas = components.reshape(atlas_gt.shape)\n",
    "plt.imshow(atlas)"
   ]
  },
  {
   "cell_type": "code",
   "execution_count": null,
   "metadata": {},
   "outputs": [],
   "source": []
  }
 ],
 "metadata": {
  "kernelspec": {
   "display_name": "Python 2",
   "language": "python",
   "name": "python2"
  },
  "language_info": {
   "codemirror_mode": {
    "name": "ipython",
    "version": 2
   },
   "file_extension": ".py",
   "mimetype": "text/x-python",
   "name": "python",
   "nbconvert_exporter": "python",
   "pygments_lexer": "ipython2",
   "version": "2.7.13"
  }
 },
 "nbformat": 4,
 "nbformat_minor": 1
}
